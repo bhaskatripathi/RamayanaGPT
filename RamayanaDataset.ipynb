{
  "nbformat": 4,
  "nbformat_minor": 0,
  "metadata": {
    "colab": {
      "provenance": [],
      "authorship_tag": "ABX9TyOxh8Dsh+x4Ad8/VMnY+ofo",
      "include_colab_link": true
    },
    "kernelspec": {
      "name": "python3",
      "display_name": "Python 3"
    },
    "language_info": {
      "name": "python"
    }
  },
  "cells": [
    {
      "cell_type": "markdown",
      "metadata": {
        "id": "view-in-github",
        "colab_type": "text"
      },
      "source": [
        "<a href=\"https://colab.research.google.com/github/bhaskatripathi/RamayanaGPT/blob/main/RamayanaDataset.ipynb\" target=\"_parent\"><img src=\"https://colab.research.google.com/assets/colab-badge.svg\" alt=\"Open In Colab\"/></a>"
      ]
    },
    {
      "cell_type": "code",
      "execution_count": 2,
      "metadata": {
        "id": "IXUCNO3I-P_l"
      },
      "outputs": [],
      "source": []
    },
    {
      "cell_type": "code",
      "source": [
        "from requests import get\n",
        "from bs4 import BeautifulSoup\n",
        "import csv"
      ],
      "metadata": {
        "id": "bavR0W5R-p3T"
      },
      "execution_count": 2,
      "outputs": []
    },
    {
      "cell_type": "code",
      "source": [
        "\n",
        "\n",
        "def initialise_soup(page_no):\n",
        "    url = f\"https://www.valmiki.iitk.ac.in/sloka?field_kanda_tid=1&language=dv&field_sarga_value={page_no}\"\n",
        "    with get(url) as r:\n",
        "        soup = BeautifulSoup(r.content, 'html5lib') \n",
        "    return soup.find('div', attrs = {'class':'view-content'})\n",
        "\n",
        "def extract_content(table, contents):\n",
        "    for row in table.find_all_next('div', attrs = {'class': 'views-field-body'}):\n",
        "        contents.append(row.div.text)\n",
        "\n",
        "def extract_explanations(table, explanations):\n",
        "    for row in table.find_all_next('div', attrs = {'class' : 'views-field-field-explanation'}):\n",
        "        explanations.append(row.div.text)\n",
        "\n",
        "def save_to_csv(shlokas, filename='yuddhakanda.csv'):\n",
        "    with open(filename, 'w', encoding='utf-8', newline='') as f:\n",
        "        writer = csv.DictWriter(f, ['content', 'explanation'])\n",
        "        writer.writeheader()\n",
        "        for shloka in shlokas:\n",
        "            writer.writerow(shloka)\n",
        "\n",
        "def main():\n",
        "    shlokas = []\n",
        "    contents = []\n",
        "    explanations = []\n",
        "\n",
        "    for i in range(1, 78):\n",
        "        table = initialise_soup(i)\n",
        "        extract_content(table, contents)\n",
        "        extract_explanations(table, explanations)\n",
        "\n",
        "    for i in range(len(contents)):\n",
        "        shloka = {'content': contents[i], 'explanation': explanations[i]}\n",
        "        shlokas.append(shloka)\n",
        "\n",
        "    save_to_csv(shlokas)\n",
        "\n",
        "if __name__ == \"__main__\":\n",
        "    main()\n"
      ],
      "metadata": {
        "id": "VVEb4BnF-V2R"
      },
      "execution_count": 3,
      "outputs": []
    }
  ]
}